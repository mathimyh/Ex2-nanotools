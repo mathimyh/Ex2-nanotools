{
 "cells": [
  {
   "cell_type": "markdown",
   "id": "851202ef-5c9c-42cd-a67a-e958c94e1da0",
   "metadata": {},
   "source": [
    "# Prosessering av STEM-DPC data\n",
    "\n",
    "Denne Jupyter Notebooken viser hvordan Scanning Transmission Electron Microscopy - Differential Phase Contrast (STEM-DPC) data kan analyseres. Sammenlignet med analyse av \"standard\" TEM data som dere så på i forrige Notebook, så er dette mer komplisert på grunn av datastørrelsen: det er veldig enkelt å gå tom for minne, noe som (mest sannsynlig) gjør at datamaskinen deres kræsjer.\n",
    "\n",
    "### Målet med denne notebooken\n",
    "\n",
    "- Dere skal kunne prosessere de magnetiske STEM-DPC dataene deres fra TEM-laben\n",
    "- Bli komfortable med å jobbe med 4-dimensjonelle datasett\n",
    "- Lære litt enkle verktøy og strategier for å jobbe med store datasett, som ofte er mye større en tilgjengelig minne\n",
    "\n",
    "### Notebook-planen\n",
    "\n",
    "- \"Åpne\" datasettet uten å laste det inn i minnet, \"lazily\"\n",
    "- Utforske datasettet, uten å laste det inn i minnet. Via \"lazy plotting\"\n",
    "- Redusere datamengden, slik at vi kan laste det inn i minnet\n",
    "- Bruk center of mass til å finne den magnetiske vektoren i hver probe-posisjon\n",
    "- Visualisere den magnetiske domenestrukturen i en bildefil\n",
    "\n",
    "Eksempel på bilde:\n",
    "\n",
    "<img src=\"bilder/eksempelbilde_dpc.jpg\" width=300 height=300 />\n",
    "\n",
    "Selve datasettene dere skal se på her er på ca. 8 GB, noe som er ganske smått i \"4-D STEM\" verdenen: disse kan lett være 100+ GB. Så selv om dere har en datamaskin som takler 8 GB, så anbefaler jeg at dere følger prosedyren for å redusere datastørrelsen."
   ]
  },
  {
   "cell_type": "markdown",
   "id": "e960a1be-f7f8-4e7d-a8a4-f64abe8df6c7",
   "metadata": {},
   "source": [
    "## Importere biblioteker\n",
    "\n",
    "Først, plotte-biblioteket. Dette kan enten være `%matplotlib qt` for egne vinduer for plottene, eller `%matplotlib widget` for å få plottene i selve Jupyter Notebooken."
   ]
  },
  {
   "cell_type": "code",
   "execution_count": 1,
   "id": "3b0361bf-9671-4e08-998d-6042a535cc49",
   "metadata": {},
   "outputs": [],
   "source": [
    "%matplotlib qt"
   ]
  },
  {
   "cell_type": "markdown",
   "id": "0aa1c3c5-b404-4044-bef9-842afc5aa739",
   "metadata": {},
   "source": [
    "Så importere HyperSpy"
   ]
  },
  {
   "cell_type": "code",
   "execution_count": 4,
   "id": "fbeabfaf-bf1f-4b86-aa5e-d9b64e156462",
   "metadata": {},
   "outputs": [],
   "source": [
    "import hyperspy.api as hs"
   ]
  },
  {
   "cell_type": "markdown",
   "id": "502ffd28-a38f-4249-9634-4afc0c4ca0e0",
   "metadata": {},
   "source": [
    "## Åpne dataset\n",
    "\n",
    "Dette gjøres via `hs.load`, som kan åpne en rekke dataformater, spesielt innenfor elektronmikroskopi. Velg `datasett/stem_dpc_data.zspy` datasettet.\n",
    "\n",
    "- `.zspy` \"fileformat\", denne er egentlig en mappe, men skriv den inn som om det er en fil.\n",
    "- Ha filnavn som inneholder noe med: `stem_dpc`, `STEMDPC`, `LowMag`, `Low_Mag`, `lowmag`, `obj_off` eller `OBJOFF`\n",
    "\n",
    "Siden disse er ganske store, så husk å bruk `lazy=True`. Lag et objekt som heter `s`.\n",
    "\n",
    "Tips: sjekk docstring for informasjon om hvordan `hs.load` virker.\n",
    "\n",
    "(Det er mulig at dere får en `WARNING` melding om `pyOpenCl`. Dette er en `WARNING` ikke en `ERROR`, så her kan den ignoreres.)"
   ]
  },
  {
   "cell_type": "code",
   "execution_count": 6,
   "id": "6fac07a0-41dd-47b7-92d6-0cd7e490001a",
   "metadata": {},
   "outputs": [
    {
     "name": "stderr",
     "output_type": "stream",
     "text": [
      "WARNING:silx.opencl.common:Unable to import pyOpenCl. Please install it from: https://pypi.org/project/pyopencl\n"
     ]
    }
   ],
   "source": [
    "s = hs.load(\"datasett/stem_dpc_data.zspy\", lazy=True)"
   ]
  },
  {
   "cell_type": "markdown",
   "id": "5a6acea9-f5a5-4edd-93d9-55b51b9807b9",
   "metadata": {},
   "source": [
    "Skriv `print(s)` i cellen under, og kjør cellen."
   ]
  },
  {
   "cell_type": "code",
   "execution_count": 7,
   "id": "41440c88-cf95-4c08-b0c8-790c8c123cd9",
   "metadata": {},
   "outputs": [
    {
     "name": "stdout",
     "output_type": "stream",
     "text": [
      "<LazyElectronDiffraction2D, title: , dimensions: (256, 256|256, 256)>\n"
     ]
    }
   ],
   "source": [
    "print(s)"
   ]
  },
  {
   "cell_type": "markdown",
   "id": "a20008a5-c073-4f51-93aa-86e2a03b7f8a",
   "metadata": {},
   "source": [
    "Her ser vi at dette er et `LazyElectronDiffraction2D` signal. `Lazy` betyr at dataene er ikke overført til RAM, ergo at dataene ennå bare er på harddisken. \n",
    "\n",
    "Den siste delen, `(256, 256|256, 256)` er dimensjonene til datasettet. Tallene til venstre for `|` er navigasjons-dimensjonene (probe-posisjoner), mens de til høyre er signal-dimensjonene (detektor-posisjoner). Ergo, vi har et 4-dimensjonalt datasett, som består av `256 x 256` probe-posisjoner, og `256 x 256` detektorposisjoner.\n",
    "\n",
    "For å få mer informasjon om dette, kjør `s` i cellen:"
   ]
  },
  {
   "cell_type": "code",
   "execution_count": 8,
   "id": "d8bac2b7-e12f-4c49-ac2a-1b6088c4f0d8",
   "metadata": {},
   "outputs": [
    {
     "data": {
      "text/html": [
       "<table>\n",
       "    <tr>\n",
       "        <td>\n",
       "            <table>\n",
       "                <thead>\n",
       "                    <tr>\n",
       "                        <th> Title: </th>\n",
       "                        <td>  </td>\n",
       "                    </tr>\n",
       "                    <tr>\n",
       "                        <th> SignalType: </th>\n",
       "                        <td> electron_diffraction </td>\n",
       "                    </tr>\n",
       "                </thead>\n",
       "                <thead>\n",
       "                    <tr>\n",
       "                        <td>  </td>\n",
       "                        <th> Array </th>\n",
       "                        <th> Chunk </th>\n",
       "                    </tr>\n",
       "                </thead>\n",
       "                <tbody>\n",
       "                    \n",
       "                    <tr>\n",
       "                        <th> Bytes </th>\n",
       "                        <td> 8.00 GiB </td>\n",
       "                        <td> 2.00 MiB </td>\n",
       "                    </tr>\n",
       "                    \n",
       "                    <tr>\n",
       "                        <th> Shape </th>\n",
       "                        <td> (256, 256|256, 256) </td>\n",
       "                        <td> (32,32|32,32) </td>\n",
       "                    </tr>\n",
       "                    <tr>\n",
       "                        <th> Count </th>\n",
       "                        <td> 4097 Tasks </td>\n",
       "                        <td> 4096 Chunks </td>\n",
       "                    </tr>\n",
       "                    <tr>\n",
       "                    <th> Type </th>\n",
       "                    <td> uint16 </td>\n",
       "                    <td> numpy.ndarray </td>\n",
       "                    </tr>\n",
       "                </tbody>\n",
       "            </table>\n",
       "        </td>\n",
       "        <td>\n",
       "            <table>\n",
       "                <thead>\n",
       "                    <tr>\n",
       "                        <th><p style=\"text-align:left;\">Navigation Axes</p>  </th>\n",
       "                        <th> <p style=\"text-align:left;\">Signal Axes</p> </th>\n",
       "                    </tr>\n",
       "                </thead>\n",
       "                <tbody>\n",
       "                    <tr>\n",
       "                        <td> <svg width=\"170\" height=\"170\" style=\"stroke:rgb(0,0,0);stroke-width:1\" >\n",
       "\n",
       "  <!-- Horizontal lines -->\n",
       "  <line x1=\"0\" y1=\"0\" x2=\"120\" y2=\"0\" style=\"stroke-width:2\" />\n",
       "  <line x1=\"0\" y1=\"15\" x2=\"120\" y2=\"15\" />\n",
       "  <line x1=\"0\" y1=\"30\" x2=\"120\" y2=\"30\" />\n",
       "  <line x1=\"0\" y1=\"45\" x2=\"120\" y2=\"45\" />\n",
       "  <line x1=\"0\" y1=\"60\" x2=\"120\" y2=\"60\" />\n",
       "  <line x1=\"0\" y1=\"75\" x2=\"120\" y2=\"75\" />\n",
       "  <line x1=\"0\" y1=\"90\" x2=\"120\" y2=\"90\" />\n",
       "  <line x1=\"0\" y1=\"105\" x2=\"120\" y2=\"105\" />\n",
       "  <line x1=\"0\" y1=\"120\" x2=\"120\" y2=\"120\" style=\"stroke-width:2\" />\n",
       "\n",
       "  <!-- Vertical lines -->\n",
       "  <line x1=\"0\" y1=\"0\" x2=\"0\" y2=\"120\" style=\"stroke-width:2\" />\n",
       "  <line x1=\"15\" y1=\"0\" x2=\"15\" y2=\"120\" />\n",
       "  <line x1=\"30\" y1=\"0\" x2=\"30\" y2=\"120\" />\n",
       "  <line x1=\"45\" y1=\"0\" x2=\"45\" y2=\"120\" />\n",
       "  <line x1=\"60\" y1=\"0\" x2=\"60\" y2=\"120\" />\n",
       "  <line x1=\"75\" y1=\"0\" x2=\"75\" y2=\"120\" />\n",
       "  <line x1=\"90\" y1=\"0\" x2=\"90\" y2=\"120\" />\n",
       "  <line x1=\"105\" y1=\"0\" x2=\"105\" y2=\"120\" />\n",
       "  <line x1=\"120\" y1=\"0\" x2=\"120\" y2=\"120\" style=\"stroke-width:2\" />\n",
       "\n",
       "  <!-- Colored Rectangle -->\n",
       "  <polygon points=\"0.0,0.0 120.0,0.0 120.0,120.0 0.0,120.0\" style=\"fill:#ECB172A0;stroke-width:0\"/>\n",
       "\n",
       "  <!-- Text -->\n",
       "  <text x=\"60.000000\" y=\"140.000000\" font-size=\"1.0rem\" font-weight=\"100\" text-anchor=\"middle\" >256</text>\n",
       "  <text x=\"140.000000\" y=\"60.000000\" font-size=\"1.0rem\" font-weight=\"100\" text-anchor=\"middle\" transform=\"rotate(-90,140.000000,60.000000)\">256</text>\n",
       "</svg> </td>\n",
       "                        <td> <svg width=\"170\" height=\"170\" style=\"stroke:rgb(0,0,0);stroke-width:1\" >\n",
       "\n",
       "  <!-- Horizontal lines -->\n",
       "  <line x1=\"0\" y1=\"0\" x2=\"120\" y2=\"0\" style=\"stroke-width:2\" />\n",
       "  <line x1=\"0\" y1=\"15\" x2=\"120\" y2=\"15\" />\n",
       "  <line x1=\"0\" y1=\"30\" x2=\"120\" y2=\"30\" />\n",
       "  <line x1=\"0\" y1=\"45\" x2=\"120\" y2=\"45\" />\n",
       "  <line x1=\"0\" y1=\"60\" x2=\"120\" y2=\"60\" />\n",
       "  <line x1=\"0\" y1=\"75\" x2=\"120\" y2=\"75\" />\n",
       "  <line x1=\"0\" y1=\"90\" x2=\"120\" y2=\"90\" />\n",
       "  <line x1=\"0\" y1=\"105\" x2=\"120\" y2=\"105\" />\n",
       "  <line x1=\"0\" y1=\"120\" x2=\"120\" y2=\"120\" style=\"stroke-width:2\" />\n",
       "\n",
       "  <!-- Vertical lines -->\n",
       "  <line x1=\"0\" y1=\"0\" x2=\"0\" y2=\"120\" style=\"stroke-width:2\" />\n",
       "  <line x1=\"15\" y1=\"0\" x2=\"15\" y2=\"120\" />\n",
       "  <line x1=\"30\" y1=\"0\" x2=\"30\" y2=\"120\" />\n",
       "  <line x1=\"45\" y1=\"0\" x2=\"45\" y2=\"120\" />\n",
       "  <line x1=\"60\" y1=\"0\" x2=\"60\" y2=\"120\" />\n",
       "  <line x1=\"75\" y1=\"0\" x2=\"75\" y2=\"120\" />\n",
       "  <line x1=\"90\" y1=\"0\" x2=\"90\" y2=\"120\" />\n",
       "  <line x1=\"105\" y1=\"0\" x2=\"105\" y2=\"120\" />\n",
       "  <line x1=\"120\" y1=\"0\" x2=\"120\" y2=\"120\" style=\"stroke-width:2\" />\n",
       "\n",
       "  <!-- Colored Rectangle -->\n",
       "  <polygon points=\"0.0,0.0 120.0,0.0 120.0,120.0 0.0,120.0\" style=\"fill:#ECB172A0;stroke-width:0\"/>\n",
       "\n",
       "  <!-- Text -->\n",
       "  <text x=\"60.000000\" y=\"140.000000\" font-size=\"1.0rem\" font-weight=\"100\" text-anchor=\"middle\" >256</text>\n",
       "  <text x=\"140.000000\" y=\"60.000000\" font-size=\"1.0rem\" font-weight=\"100\" text-anchor=\"middle\" transform=\"rotate(-90,140.000000,60.000000)\">256</text>\n",
       "</svg> </td>\n",
       "                    </tr>\n",
       "                </tbody>\n",
       "            </table>\n",
       "        </td>\n",
       "    </tr>\n",
       "</table>"
      ],
      "text/plain": [
       "<LazyElectronDiffraction2D, title: , dimensions: (256, 256|256, 256)>"
      ]
     },
     "execution_count": 8,
     "metadata": {},
     "output_type": "execute_result"
    }
   ],
   "source": [
    "s"
   ]
  },
  {
   "cell_type": "markdown",
   "id": "acffbcd0-4029-459a-95bd-4f89f0d664fb",
   "metadata": {},
   "source": [
    "Her ser vi at den totale størrelsen på datasettet er 8 GiB, og at dataene er lagret i 16 usigned integer. Dette gir 2 bytes per datapunkt (8 bits i en byte).\n",
    "\n",
    "En del av dere har nok en datamaskin som kan takle dette, men la oss prøve å redusere datamengden litt.\n",
    "\n",
    "**VIKTIG:** det er veldig lett å kræsje datamaskinen når man holder på med såpass store datasett. Så pass på at dere har lagret ting dere har åpent."
   ]
  },
  {
   "cell_type": "markdown",
   "id": "e0bbff8b-abe1-4667-aa0a-3ff01cf2f8c3",
   "metadata": {},
   "source": [
    "## Plotting av dataen\n",
    "\n",
    "`s` er et signal objekt som inneholder mange funksjoner. En av disse er `plot`, som lar oss visualisere dataene. Kjør denne funksjonen."
   ]
  },
  {
   "cell_type": "code",
   "execution_count": 12,
   "id": "c3d44e3f-feed-42f3-8924-a8e0ff6ffb7c",
   "metadata": {},
   "outputs": [],
   "source": [
    "s.plot()"
   ]
  },
  {
   "cell_type": "markdown",
   "id": "009269f8-dd4b-4daf-80b3-c29ab5ce226f",
   "metadata": {},
   "source": [
    "Siden dette er et `lazy` signal, så må HyperSpy kalkulere et navigasjonsbilde ved å hente ut deler (`chunks`) av gangen.\n",
    "\n",
    "Denne navigeringen kan \"hakke\" litt, dette fordi alt må leses fra harddisken. Planen nå er å redusere datastørrelsen, slik at vi kan laste alt inn i minnet, men først vil vi utforske datasettet litt for å se hvor mye vi kan redusere datasettet.\n",
    "\n",
    "Dere får opp to bilder: \"navigeringsplot\" og \"signalplot\".\n",
    "\n",
    "<img src=\"bilder/nav_og_sig.jpg\" width=700 height=700 />\n",
    "\n",
    "- Tips 1: navigatoren kan gjøres større ved å trykke på `+` knappen på **tastaturet**. Og mindre med å trykke på `-` knappen på **tastaturet**. Dette summerer IKKE flere piksler, men er bare en måte å lettere treffe navigator-markøren.\n",
    "- Tips 2: dere kan også flytte rundt med pil-tastene.\n",
    "\n",
    "(Siden folk har litt forskjellige datasett, så er det sannsynlig at ikke alt dette er relevant for alle.)"
   ]
  },
  {
   "cell_type": "markdown",
   "id": "36d674a4-3c4f-4296-a9b7-85deeaf13bb1",
   "metadata": {},
   "source": [
    "Som dere kanskje har sett allerede, så er bildet i eksemplet over, annerledes enn bildet i plottene deres.\n",
    "\n",
    "Dette er fordi HyperSpy bare bruker den midterste \"chunken\" i signal-dimensjonen for å lage navigasjonsbildet. For de fleste datasett, så virker dette greit nok. Men her er det litt suboptimalt, fordi elektronproben flytter seg ganske mye.\n",
    "\n",
    "Så la oss lage et bedre \"navigasjonsbilde\".\n",
    "\n",
    "For å gjøre dette, så lager vi først et \"bright field\" bilde av datasettet. Ergo, vi summerer hele diffraksjonsmønsteret i hver eneste probeposisjon. For å gjøre dette bruker vi `sum` funksjonen som er i `s`. Men vi må spesifisere at vi vil summere over de to siste dimensjonene, for å gjøre dette. Bruk `axis=(-1, -2)` i `sum` funksjonen.\n",
    "\n",
    "Resultatet i denne skal så lagres i en ny variabel: `s_sum`"
   ]
  },
  {
   "cell_type": "code",
   "execution_count": 13,
   "id": "0d309bf1-eb2d-47a0-8d2d-2f5e2efc562c",
   "metadata": {},
   "outputs": [],
   "source": [
    "s_sum = s.sum(axis=(-1,-2))"
   ]
  },
  {
   "cell_type": "markdown",
   "id": "46bdbd33-b1e8-4283-b290-e84ce24f9fbe",
   "metadata": {},
   "source": [
    "Så kan vi se hva dette nye signalet er, kjør `print(s_sum)`"
   ]
  },
  {
   "cell_type": "code",
   "execution_count": 14,
   "id": "18c82bc1-4570-4351-8cd3-bb201475b0f6",
   "metadata": {},
   "outputs": [
    {
     "name": "stdout",
     "output_type": "stream",
     "text": [
      "<LazySignal, title: , dimensions: (256, 256|)>\n"
     ]
    }
   ],
   "source": [
    "print(s_sum)"
   ]
  },
  {
   "cell_type": "markdown",
   "id": "5c54e272-a7a5-42ce-8c0e-d5d58725bca9",
   "metadata": {},
   "source": [
    "Her ser vi at `s_sum` har 2 navigasjonsdimensjoner, og 0 signaldimensjoner. Disse vil vi \"flippe\", ergo å få 0 navigasjonsdimensjoner, og 2 signaldimensjoner.\n",
    "\n",
    "Gjør dette ved å bruk `transpose` funksjonen i `s_sum`, og lagre den til en ny variabel `s_nav`."
   ]
  },
  {
   "cell_type": "code",
   "execution_count": 15,
   "id": "42f63d93-e405-4496-ba6b-acd69ca1cae0",
   "metadata": {},
   "outputs": [],
   "source": [
    "s_nav = s_sum.transpose()"
   ]
  },
  {
   "cell_type": "markdown",
   "id": "b0f3eb86-6625-4cdb-9be7-0be43eb0e710",
   "metadata": {},
   "source": [
    "Så kjør `print(s_nav)` for å se hvordan den ser ut."
   ]
  },
  {
   "cell_type": "code",
   "execution_count": 16,
   "id": "fb262f09-ecde-4c6a-ba76-d2f08bb7b245",
   "metadata": {},
   "outputs": [
    {
     "name": "stdout",
     "output_type": "stream",
     "text": [
      "<LazyElectronDiffraction2D, title: , dimensions: (|256, 256)>\n"
     ]
    }
   ],
   "source": [
    "print(s_nav)"
   ]
  },
  {
   "cell_type": "markdown",
   "id": "6cced43b-ce44-461c-a5d3-244bab8527fa",
   "metadata": {},
   "source": [
    "Nå dar den riktige dimensjoner, men den er ennå `LazyElectronDiffraction2D`. Ergo, vi har ikke egentlig gjort alle operasjonene ennå. For å gjøre dette, kjør `compute` funksjonen i `s_nav`."
   ]
  },
  {
   "cell_type": "code",
   "execution_count": 17,
   "id": "557fc6ea-e4a6-44e8-ab4e-cef68710868b",
   "metadata": {},
   "outputs": [
    {
     "name": "stdout",
     "output_type": "stream",
     "text": [
      "[########################################] | 100% Completed | 73.84 s\n"
     ]
    }
   ],
   "source": [
    "s_nav.compute()"
   ]
  },
  {
   "cell_type": "markdown",
   "id": "4febde99-c7db-419f-a077-015e7780c931",
   "metadata": {},
   "source": [
    "Så kjør `print(s_nav)`"
   ]
  },
  {
   "cell_type": "code",
   "execution_count": 18,
   "id": "e106549e-e053-43f6-9a6b-830716e8230a",
   "metadata": {},
   "outputs": [
    {
     "name": "stdout",
     "output_type": "stream",
     "text": [
      "<ElectronDiffraction2D, title: , dimensions: (|256, 256)>\n"
     ]
    }
   ],
   "source": [
    "print(s_nav)"
   ]
  },
  {
   "cell_type": "markdown",
   "id": "80eb5db7-54a6-4bc0-89bf-1507a3817e1a",
   "metadata": {},
   "source": [
    "Nå er `ElectronDiffraction2D`, ergo at vi har gjort alle kalkuleringene, og lastet dataene inn i minnet.\n",
    "\n",
    "Kjør så `plot` funksjonen i `s_nav`."
   ]
  },
  {
   "cell_type": "code",
   "execution_count": 19,
   "id": "8d4399d0-8ec5-40cf-ac14-f5b03ef9c06b",
   "metadata": {},
   "outputs": [],
   "source": [
    "s_nav.plot()"
   ]
  },
  {
   "cell_type": "markdown",
   "id": "75b28707-e321-4024-927f-741d1834b05a",
   "metadata": {},
   "source": [
    "Dette er et \"bright field\" bilde av strukturen, som vi skal bruke som navigasjonsbilde.\n",
    "\n",
    "Dette gjøres ved å sette `navigator` attribute i `s` lik `s_nav`."
   ]
  },
  {
   "cell_type": "code",
   "execution_count": 21,
   "id": "b81ede6a-a7bd-4947-ba2d-dc3c65d73de2",
   "metadata": {},
   "outputs": [],
   "source": [
    "s.navigator = s_nav"
   ]
  },
  {
   "cell_type": "markdown",
   "id": "99b5410a-db31-45c8-8608-87963c6a5bad",
   "metadata": {},
   "source": [
    "Deretter kan vi bruke `plot` funksjonen i `s`. Da blir `s_nav` automatisk brukt som navigasjonsbilde."
   ]
  },
  {
   "cell_type": "code",
   "execution_count": 23,
   "id": "f8716f9c-6667-4d5a-a44d-f72f0e34a817",
   "metadata": {},
   "outputs": [],
   "source": [
    "s.plot()"
   ]
  },
  {
   "cell_type": "markdown",
   "id": "0185366e-9243-46c4-9b6d-a1e0528de7d7",
   "metadata": {},
   "source": [
    "Siden vi bare er interessert i senter-disken, så kan vi fjerne alt \"tomrommet\" (det grønne i bildet her) hvor elektronstrålen ikke er. Ergo: vi beskjærer datasettet, slik at vi bare får de delene vi bryr oss om.\n",
    "\n",
    "<img src=\"bilder/01_diffraksjonsbilde_senterdisk.jpg\" width=300 height=300 />\n",
    "\n",
    "Et vanlig problem, er at elektronstrålen flytter seg som funksjon av probe-posisjon. Så vi kan ikke bare beskjære akkurat rundt der den er i en enkeltposisjon, vi må ha litt \"ekstra\" rom på sidene.\n",
    "\n",
    "<img src=\"bilder/01_finn_senter.jpg\" width=500 height=500 />\n",
    "\n",
    "- Plasser navigatoren midt i datasettet, som vist i bildet over.\n",
    "- Se hva `x` og `y` er i senterpunktet av disken (øverst til høyre i signal plottet)\n",
    "- Bruk `isig` til å beskjære. Syntaksen er: `s.isig[x0:x1, y0:y1]`, hvor dere kan for eksempel ha +- 50 rundt senterposisjonen. Ergo at det beskjærte området blir 100 x 100 piksler tilsammen.\n",
    "    * Eksempel: `s.isig[128 - 50 : 128 + 50, 128 - 50 : 128 + 50]`\n",
    "- Lagre dette som en ny variabel: `s1`. \n",
    "\n",
    "Hvis deler av datasettet er \"dekket\" av tykke deler av prøven, som dere ikke bryr dere om, så bare gjør dette med de områdene som er tynne nok. Hvis du har sånne \"uinteressante\" områder, så bruk `inav` til å fjerne dem på en tilsvarende måte."
   ]
  },
  {
   "cell_type": "code",
   "execution_count": 24,
   "id": "7da0359c-01df-44c3-9352-edc3e62c9941",
   "metadata": {},
   "outputs": [],
   "source": [
    "s1 = s.isig[128-50:128+50, 128-50:128+50]"
   ]
  },
  {
   "cell_type": "markdown",
   "id": "b6984904-6183-4d6f-801c-a14262083199",
   "metadata": {},
   "source": [
    "Skriv `s1` i cellen under, og kjør cellen."
   ]
  },
  {
   "cell_type": "code",
   "execution_count": 25,
   "id": "85dc203c-b3dd-4fbf-9126-69e3d4a49741",
   "metadata": {},
   "outputs": [
    {
     "data": {
      "text/html": [
       "<table>\n",
       "    <tr>\n",
       "        <td>\n",
       "            <table>\n",
       "                <thead>\n",
       "                    <tr>\n",
       "                        <th> Title: </th>\n",
       "                        <td>  </td>\n",
       "                    </tr>\n",
       "                    <tr>\n",
       "                        <th> SignalType: </th>\n",
       "                        <td> electron_diffraction </td>\n",
       "                    </tr>\n",
       "                </thead>\n",
       "                <thead>\n",
       "                    <tr>\n",
       "                        <td>  </td>\n",
       "                        <th> Array </th>\n",
       "                        <th> Chunk </th>\n",
       "                    </tr>\n",
       "                </thead>\n",
       "                <tbody>\n",
       "                    \n",
       "                    <tr>\n",
       "                        <th> Bytes </th>\n",
       "                        <td> 1.22 GiB </td>\n",
       "                        <td> 2.00 MiB </td>\n",
       "                    </tr>\n",
       "                    \n",
       "                    <tr>\n",
       "                        <th> Shape </th>\n",
       "                        <td> (256, 256|100, 100) </td>\n",
       "                        <td> (32,32|32,32) </td>\n",
       "                    </tr>\n",
       "                    <tr>\n",
       "                        <th> Count </th>\n",
       "                        <td> 5121 Tasks </td>\n",
       "                        <td> 1024 Chunks </td>\n",
       "                    </tr>\n",
       "                    <tr>\n",
       "                    <th> Type </th>\n",
       "                    <td> uint16 </td>\n",
       "                    <td> numpy.ndarray </td>\n",
       "                    </tr>\n",
       "                </tbody>\n",
       "            </table>\n",
       "        </td>\n",
       "        <td>\n",
       "            <table>\n",
       "                <thead>\n",
       "                    <tr>\n",
       "                        <th><p style=\"text-align:left;\">Navigation Axes</p>  </th>\n",
       "                        <th> <p style=\"text-align:left;\">Signal Axes</p> </th>\n",
       "                    </tr>\n",
       "                </thead>\n",
       "                <tbody>\n",
       "                    <tr>\n",
       "                        <td> <svg width=\"170\" height=\"170\" style=\"stroke:rgb(0,0,0);stroke-width:1\" >\n",
       "\n",
       "  <!-- Horizontal lines -->\n",
       "  <line x1=\"0\" y1=\"0\" x2=\"120\" y2=\"0\" style=\"stroke-width:2\" />\n",
       "  <line x1=\"0\" y1=\"15\" x2=\"120\" y2=\"15\" />\n",
       "  <line x1=\"0\" y1=\"30\" x2=\"120\" y2=\"30\" />\n",
       "  <line x1=\"0\" y1=\"45\" x2=\"120\" y2=\"45\" />\n",
       "  <line x1=\"0\" y1=\"60\" x2=\"120\" y2=\"60\" />\n",
       "  <line x1=\"0\" y1=\"75\" x2=\"120\" y2=\"75\" />\n",
       "  <line x1=\"0\" y1=\"90\" x2=\"120\" y2=\"90\" />\n",
       "  <line x1=\"0\" y1=\"105\" x2=\"120\" y2=\"105\" />\n",
       "  <line x1=\"0\" y1=\"120\" x2=\"120\" y2=\"120\" style=\"stroke-width:2\" />\n",
       "\n",
       "  <!-- Vertical lines -->\n",
       "  <line x1=\"0\" y1=\"0\" x2=\"0\" y2=\"120\" style=\"stroke-width:2\" />\n",
       "  <line x1=\"15\" y1=\"0\" x2=\"15\" y2=\"120\" />\n",
       "  <line x1=\"30\" y1=\"0\" x2=\"30\" y2=\"120\" />\n",
       "  <line x1=\"45\" y1=\"0\" x2=\"45\" y2=\"120\" />\n",
       "  <line x1=\"60\" y1=\"0\" x2=\"60\" y2=\"120\" />\n",
       "  <line x1=\"75\" y1=\"0\" x2=\"75\" y2=\"120\" />\n",
       "  <line x1=\"90\" y1=\"0\" x2=\"90\" y2=\"120\" />\n",
       "  <line x1=\"105\" y1=\"0\" x2=\"105\" y2=\"120\" />\n",
       "  <line x1=\"120\" y1=\"0\" x2=\"120\" y2=\"120\" style=\"stroke-width:2\" />\n",
       "\n",
       "  <!-- Colored Rectangle -->\n",
       "  <polygon points=\"0.0,0.0 120.0,0.0 120.0,120.0 0.0,120.0\" style=\"fill:#ECB172A0;stroke-width:0\"/>\n",
       "\n",
       "  <!-- Text -->\n",
       "  <text x=\"60.000000\" y=\"140.000000\" font-size=\"1.0rem\" font-weight=\"100\" text-anchor=\"middle\" >256</text>\n",
       "  <text x=\"140.000000\" y=\"60.000000\" font-size=\"1.0rem\" font-weight=\"100\" text-anchor=\"middle\" transform=\"rotate(-90,140.000000,60.000000)\">256</text>\n",
       "</svg> </td>\n",
       "                        <td> <svg width=\"170\" height=\"170\" style=\"stroke:rgb(0,0,0);stroke-width:1\" >\n",
       "\n",
       "  <!-- Horizontal lines -->\n",
       "  <line x1=\"0\" y1=\"0\" x2=\"120\" y2=\"0\" style=\"stroke-width:2\" />\n",
       "  <line x1=\"0\" y1=\"21\" x2=\"120\" y2=\"21\" />\n",
       "  <line x1=\"0\" y1=\"60\" x2=\"120\" y2=\"60\" />\n",
       "  <line x1=\"0\" y1=\"98\" x2=\"120\" y2=\"98\" />\n",
       "  <line x1=\"0\" y1=\"120\" x2=\"120\" y2=\"120\" style=\"stroke-width:2\" />\n",
       "\n",
       "  <!-- Vertical lines -->\n",
       "  <line x1=\"0\" y1=\"0\" x2=\"0\" y2=\"120\" style=\"stroke-width:2\" />\n",
       "  <line x1=\"21\" y1=\"0\" x2=\"21\" y2=\"120\" />\n",
       "  <line x1=\"60\" y1=\"0\" x2=\"60\" y2=\"120\" />\n",
       "  <line x1=\"98\" y1=\"0\" x2=\"98\" y2=\"120\" />\n",
       "  <line x1=\"120\" y1=\"0\" x2=\"120\" y2=\"120\" style=\"stroke-width:2\" />\n",
       "\n",
       "  <!-- Colored Rectangle -->\n",
       "  <polygon points=\"0.0,0.0 120.0,0.0 120.0,120.0 0.0,120.0\" style=\"fill:#ECB172A0;stroke-width:0\"/>\n",
       "\n",
       "  <!-- Text -->\n",
       "  <text x=\"60.000000\" y=\"140.000000\" font-size=\"1.0rem\" font-weight=\"100\" text-anchor=\"middle\" >100</text>\n",
       "  <text x=\"140.000000\" y=\"60.000000\" font-size=\"1.0rem\" font-weight=\"100\" text-anchor=\"middle\" transform=\"rotate(-90,140.000000,60.000000)\">100</text>\n",
       "</svg> </td>\n",
       "                    </tr>\n",
       "                </tbody>\n",
       "            </table>\n",
       "        </td>\n",
       "    </tr>\n",
       "</table>"
      ],
      "text/plain": [
       "<LazyElectronDiffraction2D, title: , dimensions: (256, 256|100, 100)>"
      ]
     },
     "execution_count": 25,
     "metadata": {},
     "output_type": "execute_result"
    }
   ],
   "source": [
    "s1"
   ]
  },
  {
   "cell_type": "markdown",
   "id": "2ff3d9c4-71be-4267-b033-8e59b5dafb6a",
   "metadata": {},
   "source": [
    "Her ser vi at dette er et `LazyElectronDiffraction2D` signal, men med færre detektor-posisjoner! Hvis dere brukt 50 piksler som eksemplet ovenfor, så vil dette nye signalet `s1` bare være 15% av `s` sin størrelse.\n",
    "\n",
    "Her kan vi gjenbruke navigasjonsbildet fra tidligere `s_nav`, via `navigator` attributen."
   ]
  },
  {
   "cell_type": "code",
   "execution_count": 26,
   "id": "123fa69f-33a9-4ffa-b10a-e0a62fc37c9c",
   "metadata": {},
   "outputs": [],
   "source": [
    "s1.navigator = s_nav"
   ]
  },
  {
   "cell_type": "markdown",
   "id": "43f21892-8718-4d42-91ea-657d25eeddf8",
   "metadata": {},
   "source": [
    "For å sjekke hvordan dette ser ut, så bruk: `s1.plot()`"
   ]
  },
  {
   "cell_type": "code",
   "execution_count": 27,
   "id": "3cb4cdf2-8eef-465c-9ca3-c4d2dde28dac",
   "metadata": {},
   "outputs": [],
   "source": [
    "s1.plot()"
   ]
  },
  {
   "cell_type": "markdown",
   "id": "debc4650-7d2a-4077-b2ec-cf053499908c",
   "metadata": {},
   "source": [
    "Sjekk at den hele senterdisken ennå er i datasettet, ved å flytte navigatoren til de ytre hjørnene.\n",
    "\n",
    "Nå er navigeringen mye raskere, fordi vi laster en mye mindre del av datasettet inn i minnet per probeposisjon.\n",
    "\n",
    "<img src=\"bilder/02_senter_posisjon.jpg\" width=800 height=800 />"
   ]
  },
  {
   "cell_type": "markdown",
   "id": "534feed0-b96f-42fe-81a1-7947ce72b2b3",
   "metadata": {},
   "source": [
    "Hvis dette ser bra ut så bruk `compute` funksjonen i `s1`.\n",
    "\n",
    "**VIKTIG:** dette vil laste hele `s1` datasettet inn i minnet, og hvis du ikke har gjort de forrige stegene riktig, så kan det kræsje datamaskinen din!"
   ]
  },
  {
   "cell_type": "code",
   "execution_count": 28,
   "id": "30708087-2a7b-4460-a4fc-81acabf43cbe",
   "metadata": {},
   "outputs": [
    {
     "name": "stdout",
     "output_type": "stream",
     "text": [
      "[########################################] | 100% Completed | 11.60 s\n"
     ]
    }
   ],
   "source": [
    "s1.compute()"
   ]
  },
  {
   "cell_type": "code",
   "execution_count": 29,
   "id": "0cc3d425",
   "metadata": {},
   "outputs": [],
   "source": [
    "s1.plot()"
   ]
  },
  {
   "cell_type": "markdown",
   "id": "24325579-29b6-44b1-aac1-70228226a8d1",
   "metadata": {},
   "source": [
    "Nå vil plottingen være mye raskere, siden alt er i minnet. Bruk `plot` i `s1`, for å se hvordan prøven og datasettet ser ut."
   ]
  },
  {
   "cell_type": "markdown",
   "id": "d74aeaee-924d-42b0-9692-1628b1a48a26",
   "metadata": {
    "tags": []
   },
   "source": [
    "## Magnetisk kontrast\n",
    "\n",
    "Nå som datasettet er litt mer håndterbart, så kan vi prøve å se de magnetiske domenene.\n",
    "\n",
    "En enkel måte å gjøre dette på, er å bytte om på \"navigasjon\" og \"signal\" dimensjonene. Ergo: istedet for at vi endrer på probe-posisjonen, så endrer vi heller på detektorposisjonen.\n",
    "\n",
    "Kjør: `s1.T.plot()`, og flytt navigatoren rundt senterstrålen. Dette vil se litt rart ut, på grunn av at elektronstrålen flytter på seg, men dere burde kunne se litt magnetisk kontrast på grensen mellom de lyse og mørke områdene."
   ]
  },
  {
   "cell_type": "code",
   "execution_count": 30,
   "id": "3327b6a5-2694-4858-a9e5-55868105e168",
   "metadata": {},
   "outputs": [],
   "source": [
    "s1.T.plot()"
   ]
  },
  {
   "cell_type": "markdown",
   "id": "d7a23ae6-9565-4aca-882b-288177485432",
   "metadata": {},
   "source": [
    "## Mer avansert analyse\n",
    "\n",
    "En litt mer avansert måte å analysere dette, er å bruk `center_of_mass` funksjonen i `s1`. Lagre dette som `s1_com`. Dette regner ut hvor senter-posisjonen er for alle probe-posisjonene."
   ]
  },
  {
   "cell_type": "code",
   "execution_count": 31,
   "id": "a4a23fc7-dff8-4b96-893e-108f1a0d07e4",
   "metadata": {},
   "outputs": [
    {
     "name": "stdout",
     "output_type": "stream",
     "text": [
      "[########################################] | 100% Completed | 16.09 s\n"
     ]
    }
   ],
   "source": [
    "s1_com = s1.center_of_mass()"
   ]
  },
  {
   "cell_type": "markdown",
   "id": "b922e907-ab73-450c-ad0a-dc4c76afefc9",
   "metadata": {},
   "source": [
    "Dette gir et `DPCSignal2D`, hvor x- og y-posisjonene er i navigasjonsposisjonene.\n",
    "\n",
    "Bruk `plot` i `s1_com`. I navigasjons dimensjon så er det x- og y-posisjonen til elektronstrålen, dette kan kobles direkte til det magnetiske feltet i prøven. Bytt mellom x og y med piltastene på tastaturet.\n",
    "\n",
    "Dette skal ca. se sånn ut:\n",
    "\n",
    "<img src=\"bilder/center_of_mass_raw.jpg\" width=800 height=800 />\n",
    "\n",
    "Tips: hvis det er vanskelig å se bruk kontrast-editoren, ved å trykke på `H`-knappen."
   ]
  },
  {
   "cell_type": "code",
   "execution_count": 32,
   "id": "22bb8e34-d6d5-4579-81df-3f5b8928f281",
   "metadata": {},
   "outputs": [],
   "source": [
    "s1_com.plot()"
   ]
  },
  {
   "cell_type": "markdown",
   "id": "1341cb09-d9ca-4e72-9f85-c5de70435181",
   "metadata": {},
   "source": [
    "Her ser vi at vi har et problem med at senter-strålen har flyttet seg, som gir et \"plan\" i både x- og y-retningen.\n",
    "\n",
    "Dette kan korrigeres ved å bruk `correct_ramp` funksjonen i `s1_com`.\n",
    "\n",
    "Bruk denne, og lagre den som `s1_com_corr`."
   ]
  },
  {
   "cell_type": "code",
   "execution_count": 33,
   "id": "7977118a-39ea-40b7-8822-08c7192b631c",
   "metadata": {},
   "outputs": [],
   "source": [
    "s1_com_corr = s1_com.correct_ramp()"
   ]
  },
  {
   "cell_type": "markdown",
   "id": "20b76230-3057-461d-bbc3-29449d8956de",
   "metadata": {},
   "source": [
    "Så plot `s1_com_corr`, ved å bruke `get_color_signal().plot()`."
   ]
  },
  {
   "cell_type": "code",
   "execution_count": null,
   "id": "53c6963c-ef79-4315-9835-4c32fb54d91f",
   "metadata": {},
   "outputs": [],
   "source": [
    "s1_com_corr.get_color_signal().plot()"
   ]
  },
  {
   "cell_type": "markdown",
   "id": "d4fdb67e-2afa-416d-b4e8-9400d9931f0c",
   "metadata": {},
   "source": [
    "Dette skal se noe ut som dette:\n",
    "\n",
    "<img src=\"bilder/center_of_mass_color.jpg\" width=200 height=200 />\n",
    "\n",
    "Hvis det ser ut som dette (se under), se har `correct_ramp` ikke virket ordentlig. Det magnetiske området som er i midten på y-aksen på figuren under, skal ha mange forskjellige farger.\n",
    "\n",
    "<img src=\"bilder/center_of_mass_bad_corrected_ramp.jpg\" width=200 height=200 />\n",
    "\n",
    "I dette tilfellet er det fordi områdene over og under det tynne området er så tykke at center of mass ikke virker særlig bra. Da må disse områdene fjernes ved å bruke `s_com.isig[: y0:y1]`, FØR man kjører `s1_com.correct_ramp`.\n",
    "\n",
    "Så i dette tilfellet:\n",
    "```python\n",
    "s1_com_corr = s1_com.isig[:, 40:190].correct_ramp()\n",
    "s1_com_corr.get_color_signal().plot()\n",
    "```\n",
    "<img src=\"bilder/center_of_mass_color_corrected_good.jpg\" width=300 height=300 />"
   ]
  },
  {
   "cell_type": "markdown",
   "id": "0259896e-bd24-4f74-8f19-8886e0cfe389",
   "metadata": {
    "tags": []
   },
   "source": [
    "## Plotting av disse dataene\n",
    "\n",
    "Nå kan dette kombineres med kunnskapen og koden dere brukte i TEM-bildedata notebooken, og FIB notebooken, til å lage en figur som ligner på den i starten av denne Jupyter Notebooken.\n",
    "\n",
    "For å få disse fargeplottene i en matplotlib-figur, så først lag en `fig` og en `ax` via matplotlib.\n",
    "\n",
    "Så bruk `get_color_image_with_indicator` i `s1_com_corr` med `ax=ax`."
   ]
  },
  {
   "cell_type": "code",
   "execution_count": null,
   "id": "a12118b2-b0c2-4c86-9482-6ad0d8b7d8e5",
   "metadata": {},
   "outputs": [],
   "source": []
  },
  {
   "cell_type": "code",
   "execution_count": null,
   "id": "eba5a1e2-d718-4493-a997-5060aebcc2c4",
   "metadata": {},
   "outputs": [],
   "source": []
  },
  {
   "cell_type": "markdown",
   "id": "0091f249-4c28-42ee-b816-3e757f60821d",
   "metadata": {},
   "source": [
    "Tips: posisjonen til fargehjulet kan styres med `ax_indicator` parameteren, se docstringen for mer informasjon."
   ]
  },
  {
   "cell_type": "code",
   "execution_count": null,
   "id": "ff6dba47-20b7-4353-bbdc-eca9292123af",
   "metadata": {},
   "outputs": [],
   "source": []
  }
 ],
 "metadata": {
  "kernelspec": {
   "display_name": "Python 3.9.13 ('pyxem')",
   "language": "python",
   "name": "python3"
  },
  "language_info": {
   "codemirror_mode": {
    "name": "ipython",
    "version": 3
   },
   "file_extension": ".py",
   "mimetype": "text/x-python",
   "name": "python",
   "nbconvert_exporter": "python",
   "pygments_lexer": "ipython3",
   "version": "3.9.13"
  },
  "vscode": {
   "interpreter": {
    "hash": "b2f089801b7c0f0a5f5881ce9a38839676526424576a79a21d50c2c6aa6f1052"
   }
  }
 },
 "nbformat": 4,
 "nbformat_minor": 5
}
